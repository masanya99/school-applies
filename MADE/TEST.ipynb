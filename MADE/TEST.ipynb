{
 "cells": [
  {
   "cell_type": "code",
   "execution_count": null,
   "metadata": {},
   "outputs": [],
   "source": [
    "# библиотеки\n",
    "import numpy as np\n",
    "# входные данные\n",
    "x = int(input()) #количество наборов входных данных\n",
    "answer = []\n",
    "for i in range(x):\n",
    "    N,K = map(int, input().split())\n",
    "    sectors = np.array(list(map(int, input().split())))\n",
    "    sums = []\n",
    "    sectors= np.concatenate((sectors[K+1:],sectors[0:K]))\n",
    "    length=len(sectors)\n",
    "    for i in range(length):\n",
    "        for j in range(length):\n",
    "            if i==j:\n",
    "                sums.append(sectors[i])\n",
    "            else:\n",
    "                sums.append(sectors[i:j+1].sum())\n",
    "    answer.append(max(sums))\n",
    "\n",
    "for i in answer:\n",
    "    print(i)\n",
    "    \n",
    "#8 2\n",
    "#2 3 4 5 -30 6 -1 2\n",
    "    \n",
    "#6 -1\n",
    "#1 -3 2 -2 3 4"
   ]
  },
  {
   "cell_type": "code",
   "execution_count": null,
   "metadata": {},
   "outputs": [],
   "source": []
  }
 ],
 "metadata": {
  "kernelspec": {
   "display_name": "Python 3",
   "language": "python",
   "name": "python3"
  },
  "language_info": {
   "codemirror_mode": {
    "name": "ipython",
    "version": 3
   },
   "file_extension": ".py",
   "mimetype": "text/x-python",
   "name": "python",
   "nbconvert_exporter": "python",
   "pygments_lexer": "ipython3",
   "version": "3.7.6"
  }
 },
 "nbformat": 4,
 "nbformat_minor": 4
}
