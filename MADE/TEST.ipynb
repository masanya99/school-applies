{
 "cells": [
  {
   "cell_type": "code",
   "execution_count": 1,
   "metadata": {},
   "outputs": [],
   "source": [
    "# библиотеки\n",
    "import numpy as np"
   ]
  },
  {
   "cell_type": "code",
   "execution_count": 32,
   "metadata": {},
   "outputs": [
    {
     "name": "stdout",
     "output_type": "stream",
     "text": [
      "1\n",
      "6 -1\n",
      "1 -3 2 -2 3 4\n"
     ]
    }
   ],
   "source": [
    "# входные данные\n",
    "x = int(input()) #количество наборов входных данных\n",
    "N,K = map(int, input().split())\n",
    "sectors = np.array(list(map(int, input().split())))"
   ]
  },
  {
   "cell_type": "code",
   "execution_count": 44,
   "metadata": {},
   "outputs": [
    {
     "name": "stdout",
     "output_type": "stream",
     "text": [
      "1\n",
      "6 -1\n",
      "1 -3 2 -2 3 4\n"
     ]
    },
    {
     "data": {
      "text/plain": [
       "8"
      ]
     },
     "execution_count": 44,
     "metadata": {},
     "output_type": "execute_result"
    }
   ],
   "source": [
    "sums = []\n",
    "sectors= np.concatenate((sectors[K+1:],sectors[0:K]))\n",
    "length=len(sectors)\n",
    "for i in range(length):\n",
    "    for j in range(length):\n",
    "        if i==j:\n",
    "            sums.append(sectors[i])\n",
    "        else:\n",
    "            sums.append(sectors[i:j+1].sum())\n",
    "max(sums)"
   ]
  },
  {
   "cell_type": "code",
   "execution_count": null,
   "metadata": {},
   "outputs": [],
   "source": []
  }
 ],
 "metadata": {
  "kernelspec": {
   "display_name": "Python 3",
   "language": "python",
   "name": "python3"
  },
  "language_info": {
   "codemirror_mode": {
    "name": "ipython",
    "version": 3
   },
   "file_extension": ".py",
   "mimetype": "text/x-python",
   "name": "python",
   "nbconvert_exporter": "python",
   "pygments_lexer": "ipython3",
   "version": "3.7.6"
  }
 },
 "nbformat": 4,
 "nbformat_minor": 4
}
