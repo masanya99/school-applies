{
 "cells": [
  {
   "cell_type": "code",
   "execution_count": null,
   "metadata": {},
   "outputs": [],
   "source": [
    "in \n",
    "1\n",
    "9\n",
    "1 7\n",
    "4 7\n",
    "6 7\n",
    "1 5\n",
    "4 5\n",
    "6 5\n",
    "3 3\n",
    "1 1\n",
    "4 1\n",
    "\n",
    "out \n",
    "5"
   ]
  },
  {
   "cell_type": "code",
   "execution_count": 29,
   "metadata": {},
   "outputs": [],
   "source": [
    "import matplotlib.pyplot as plt\n",
    "%matplotlib inline\n",
    "import warnings\n",
    "warnings.filterwarnings('ignore')"
   ]
  },
  {
   "cell_type": "markdown",
   "metadata": {},
   "source": [
    "# Беспилотные автобусы на Манхеттене"
   ]
  },
  {
   "cell_type": "code",
   "execution_count": 25,
   "metadata": {},
   "outputs": [
    {
     "name": "stdout",
     "output_type": "stream",
     "text": [
      "1\n",
      "9\n",
      "1 7\n",
      "4 7\n",
      "6 7\n",
      "1 5\n",
      "4 5\n",
      "6 5\n",
      "3 3\n",
      "1 1\n",
      "4 1\n"
     ]
    }
   ],
   "source": [
    "perekrestki = []\n",
    "xx = []\n",
    "yy= []\n",
    "x = int(input()) #количество наборов входных данных\n",
    "for i in range(x):\n",
    "    K = int(input()) #количество удобных перекрестков\n",
    "    for j in range(K):\n",
    "        x,y = map(int, input().split()) #координаты перекрестков\n",
    "        xx.append(x);yy.append(y)\n",
    "        perekrestki.append([x,y])"
   ]
  },
  {
   "cell_type": "code",
   "execution_count": 3,
   "metadata": {},
   "outputs": [
    {
     "data": {
      "text/plain": [
       "[[1, 7], [4, 7], [6, 7], [1, 5], [4, 5], [6, 5], [3, 3], [1, 1], [4, 1]]"
      ]
     },
     "execution_count": 3,
     "metadata": {},
     "output_type": "execute_result"
    }
   ],
   "source": [
    "perekrestki"
   ]
  },
  {
   "cell_type": "code",
   "execution_count": 31,
   "metadata": {},
   "outputs": [],
   "source": [
    "x = xx[0]\n",
    "y = yy[0]\n",
    "x_koord = []\n",
    "y_koord = []\n",
    "for i in perekrestki:\n",
    "    if i[0]==x:\n",
    "        x_koord.append(i)\n",
    "    if i[1]==y:\n",
    "        y_koord.append(i)"
   ]
  },
  {
   "cell_type": "code",
   "execution_count": 18,
   "metadata": {},
   "outputs": [],
   "source": [
    "import numpy as np"
   ]
  },
  {
   "cell_type": "code",
   "execution_count": 32,
   "metadata": {},
   "outputs": [
    {
     "data": {
      "text/plain": [
       "array([[1, 1],\n",
       "       [1, 5],\n",
       "       [1, 7],\n",
       "       [4, 7],\n",
       "       [6, 7]])"
      ]
     },
     "execution_count": 32,
     "metadata": {},
     "output_type": "execute_result"
    }
   ],
   "source": [
    "coords = np.unique(np.array(x_koord+y_koord),axis=0)\n",
    "coords"
   ]
  },
  {
   "cell_type": "code",
   "execution_count": 30,
   "metadata": {},
   "outputs": [
    {
     "data": {
      "text/plain": [
       "<function matplotlib.pyplot.show(*args, **kw)>"
      ]
     },
     "execution_count": 30,
     "metadata": {},
     "output_type": "execute_result"
    },
    {
     "data": {
      "image/png": "[encoded data removed]",
      "text/plain": [
       "<Figure size 432x288 with 1 Axes>"
      ]
     },
     "metadata": {
      "needs_background": "light"
     },
     "output_type": "display_data"
    }
   ],
   "source": [
    "plt.plot(xx,yy,'o')\n",
    "plt.show"
   ]
  },
  {
   "cell_type": "code",
   "execution_count": null,
   "metadata": {},
   "outputs": [],
   "source": []
  }
 ],
 "metadata": {
  "kernelspec": {
   "display_name": "Python 3",
   "language": "python",
   "name": "python3"
  },
  "language_info": {
   "codemirror_mode": {
    "name": "ipython",
    "version": 3
   },
   "file_extension": ".py",
   "mimetype": "text/x-python",
   "name": "python",
   "nbconvert_exporter": "python",
   "pygments_lexer": "ipython3",
   "version": "3.7.6"
  }
 },
 "nbformat": 4,
 "nbformat_minor": 4
}
