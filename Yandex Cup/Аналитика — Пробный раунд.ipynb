{
 "cells": [
  {
   "cell_type": "markdown",
   "metadata": {},
   "source": [
    "# A. Посчитать лгунов в стране\n",
    "---\n",
    "\n",
    "В государстве живёт 10 000 человек. Они делятся на правдолюбов и лгунов. Правдолюбы говорят правду с вероятностью 80%, а лгуны — с вероятностью 40%. Государство решило подсчитать правдолюбов и лгунов на основе опроса 100 жителей. Каждый раз случайно выбранного человека спрашивают: «Вы лгун?» — и записывают ответ. Однако один человек может поучаствовать в опросе несколько раз. Если житель уже участвовал в опросе — он отвечает то же самое, что и в первый раз. Мы знаем, что правдолюбов 70%, а лгунов 30%. Какая вероятность того, что государство недооценит количество лгунов, т. е. опрос покажет, что лгунов меньше 30%? Дайте ответ в процентах с точкой в качестве разделителя, результат округлите до сотых (пример ввода: 00.00)."
   ]
  },
  {
   "cell_type": "code",
   "execution_count": 1,
   "metadata": {},
   "outputs": [],
   "source": [
    "# всего\n",
    "N = 10000\n",
    "\n",
    "# вероятность лжи/правды для правдолюбов\n",
    "p_tt_t = 0.8\n",
    "p_tt_f = 1- p_tt_t\n",
    "\n",
    "# вероятность лжи/правды для лгунов\n",
    "p_ff_t = 0.4\n",
    "p_ff_f = 1- p_ff_t\n",
    "\n",
    "# выборка\n",
    "n = 100\n",
    "\n",
    "# доли лгунов/правдолюбов\n",
    "tt = 0.7\n",
    "ff = 0.3"
   ]
  },
  {
   "cell_type": "markdown",
   "metadata": {},
   "source": [
    "$$P(x_{ff}<0.3) = F(0.3) - ?$$"
   ]
  },
  {
   "cell_type": "code",
   "execution_count": 2,
   "metadata": {},
   "outputs": [],
   "source": [
    "# кол-во лгунов/правдолюбов в общем\n",
    "N_tt = N * tt\n",
    "N_ff = N * ff\n",
    "\n",
    "# кол-во лгунов/правдолюбов в выборке\n",
    "n_tt = n * tt\n",
    "n_ff = n * ff"
   ]
  },
  {
   "cell_type": "code",
   "execution_count": 5,
   "metadata": {},
   "outputs": [],
   "source": [
    "import scipy.special"
   ]
  },
  {
   "cell_type": "code",
   "execution_count": 6,
   "metadata": {},
   "outputs": [
    {
     "data": {
      "text/plain": [
       "6.520846924611369e+241"
      ]
     },
     "execution_count": 6,
     "metadata": {},
     "output_type": "execute_result"
    }
   ],
   "source": [
    "# кол-во способов выбрать 100 из 10000\n",
    "N_n = scipy.special.binom(N, n)\n",
    "N_n"
   ]
  },
  {
   "cell_type": "code",
   "execution_count": 8,
   "metadata": {},
   "outputs": [
    {
     "data": {
      "text/plain": [
       "100.0"
      ]
     },
     "execution_count": 8,
     "metadata": {},
     "output_type": "execute_result"
    }
   ],
   "source": [
    "# кол-во способов выбрать 1 из 100\n",
    "n_1 = scipy.special.binom(n, 1)\n",
    "n_1"
   ]
  },
  {
   "cell_type": "code",
   "execution_count": 9,
   "metadata": {},
   "outputs": [
    {
     "data": {
      "text/plain": [
       "6.520846924611369e+243"
      ]
     },
     "execution_count": 9,
     "metadata": {},
     "output_type": "execute_result"
    }
   ],
   "source": [
    "# кол-во способов выбрать все вместе\n",
    "choice = N_n * n_1\n",
    "choice"
   ]
  },
  {
   "cell_type": "markdown",
   "metadata": {},
   "source": [
    "# вы лгун?\n",
    "правдолюб: нет - правда\n",
    "\n",
    "правдолюб: да - ложь\n",
    "\n",
    "---\n",
    "лгун: да - правда\n",
    "\n",
    "лгун: нет - ложь"
   ]
  },
  {
   "cell_type": "code",
   "execution_count": 17,
   "metadata": {},
   "outputs": [],
   "source": [
    "# вероятность что рандомный чел говорит да\n",
    "p_yes = tt*p_tt_f+ff*p_ff_t"
   ]
  },
  {
   "cell_type": "code",
   "execution_count": 18,
   "metadata": {},
   "outputs": [],
   "source": [
    "# вероятность что рандомный чел говорит нет\n",
    "p_no = tt*p_tt_t+ff*p_ff_f"
   ]
  },
  {
   "cell_type": "code",
   "execution_count": 19,
   "metadata": {},
   "outputs": [],
   "source": [
    "# вероятность что рандомный чел говорит правду\n",
    "p_t = tt*p_tt_t+ff*p_ff_t"
   ]
  },
  {
   "cell_type": "code",
   "execution_count": 20,
   "metadata": {},
   "outputs": [],
   "source": [
    "# вероятность что рандомный чел говорит ложь\n",
    "p_f = tt*p_tt_f+ff*p_ff_f"
   ]
  },
  {
   "cell_type": "code",
   "execution_count": null,
   "metadata": {},
   "outputs": [],
   "source": []
  },
  {
   "cell_type": "code",
   "execution_count": null,
   "metadata": {},
   "outputs": [],
   "source": []
  },
  {
   "cell_type": "markdown",
   "metadata": {},
   "source": [
    "# B. Театральный сезон и телефоны\n",
    "Международный сервис по продаже билетов решил подвести итоги театрального сезона. В качестве одной из метрик руководитель проекта хочет посчитать количество пользователей, которые покупали билеты на разные спектакли.\n",
    "При покупке билета пользователь указывает номер своего телефона. Необходимо найти спектакль с наибольшим числом уникальных телефонных номеров. И посчитать количество соответствующих уникальных телефонных номеров.\n",
    "Зарегистрироваться на направление Аналитика и другие треки чемпионата вы можете на сайте Yandex Cup.\n",
    "\n",
    "__Формат ввода__\n",
    "\n",
    "Логи покупок доступны в файле ticket_logs.csv. В первом столбце название спектакля из базы сервиса. Во втором - номер телефона, который оставил пользователь при покупке. Отметим, что в целях конспирации телефонные коды стран заменены на необслуживаемые в настоящий момент зоны.\n",
    "\n",
    "__Формат вывода__\n",
    "\n",
    "Число уникальных номеров."
   ]
  },
  {
   "cell_type": "code",
   "execution_count": 26,
   "metadata": {},
   "outputs": [],
   "source": [
    "import pandas as pd"
   ]
  },
  {
   "cell_type": "code",
   "execution_count": 32,
   "metadata": {},
   "outputs": [
    {
     "data": {
      "text/html": [
       "<div>\n",
       "<style scoped>\n",
       "    .dataframe tbody tr th:only-of-type {\n",
       "        vertical-align: middle;\n",
       "    }\n",
       "\n",
       "    .dataframe tbody tr th {\n",
       "        vertical-align: top;\n",
       "    }\n",
       "\n",
       "    .dataframe thead th {\n",
       "        text-align: right;\n",
       "    }\n",
       "</style>\n",
       "<table border=\"1\" class=\"dataframe\">\n",
       "  <thead>\n",
       "    <tr style=\"text-align: right;\">\n",
       "      <th></th>\n",
       "      <th>perf</th>\n",
       "      <th>phone</th>\n",
       "    </tr>\n",
       "  </thead>\n",
       "  <tbody>\n",
       "    <tr>\n",
       "      <th>0</th>\n",
       "      <td>Кошки</td>\n",
       "      <td>+88029264576</td>\n",
       "    </tr>\n",
       "    <tr>\n",
       "      <th>1</th>\n",
       "      <td>Норма</td>\n",
       "      <td>8805-630-71-19</td>\n",
       "    </tr>\n",
       "    <tr>\n",
       "      <th>2</th>\n",
       "      <td>Евгений Онегин</td>\n",
       "      <td>8-(802)-235-30-28</td>\n",
       "    </tr>\n",
       "    <tr>\n",
       "      <th>3</th>\n",
       "      <td>Вестсайдская история</td>\n",
       "      <td>8-803-151-78-95</td>\n",
       "    </tr>\n",
       "    <tr>\n",
       "      <th>4</th>\n",
       "      <td>Дон Кихот</td>\n",
       "      <td>8-802-311-48-72</td>\n",
       "    </tr>\n",
       "  </tbody>\n",
       "</table>\n",
       "</div>"
      ],
      "text/plain": [
       "                   perf              phone\n",
       "0                 Кошки       +88029264576\n",
       "1                 Норма     8805-630-71-19\n",
       "2        Евгений Онегин  8-(802)-235-30-28\n",
       "3  Вестсайдская история    8-803-151-78-95\n",
       "4             Дон Кихот    8-802-311-48-72"
      ]
     },
     "execution_count": 32,
     "metadata": {},
     "output_type": "execute_result"
    }
   ],
   "source": [
    "tickets = pd.read_csv('ticket_logs.csv', header = None)\n",
    "tickets.columns = ['perf', 'phone']\n",
    "tickets.head()"
   ]
  },
  {
   "cell_type": "code",
   "execution_count": 67,
   "metadata": {},
   "outputs": [],
   "source": [
    "tickets['phone'] = tickets['phone'].str.replace('-', '')\n",
    "tickets['phone'] = tickets['phone'].str.replace('(', '')\n",
    "tickets['phone'] = tickets['phone'].str.replace(')', '')"
   ]
  },
  {
   "cell_type": "code",
   "execution_count": 66,
   "metadata": {},
   "outputs": [
    {
     "data": {
      "text/plain": [
       "perf\n",
       "Кошки               181\n",
       "Дон Кихот           175\n",
       "Спящая красавица    175\n",
       "Лебединое озеро     171\n",
       "Кармен              171\n",
       "Name: phone, dtype: int64"
      ]
     },
     "execution_count": 66,
     "metadata": {},
     "output_type": "execute_result"
    }
   ],
   "source": [
    "gr_tick = tickets.groupby('perf')['phone'].nunique()\n",
    "gr_tick\n",
    "gr_tick.sort_values(ascending=False, inplace=True)\n",
    "gr_tick.head()"
   ]
  },
  {
   "cell_type": "markdown",
   "metadata": {},
   "source": [
    "# ответ: 181"
   ]
  },
  {
   "cell_type": "code",
   "execution_count": null,
   "metadata": {},
   "outputs": [],
   "source": []
  },
  {
   "cell_type": "code",
   "execution_count": null,
   "metadata": {},
   "outputs": [],
   "source": []
  },
  {
   "cell_type": "markdown",
   "metadata": {},
   "source": [
    "# C. Рассчитать pFound\n",
    "В архиве содержится три текстовых файла:\n",
    "\n",
    "- qid_query.tsv — $id$ запроса и текст запроса, разделённые табуляцией;\n",
    "- qid_url_rating.tsv — $id$ запроса, URL документа, релевантность документа запросу;\n",
    "- hostid_url.tsv — $id$ хоста и URL документа.\n",
    "\n",
    "Нужно вывести текст запроса с максимальным значением метрики $pFound$, посчитанной по топ-10 документов. Выдача по запросу формируется по следующим правилам:\n",
    "\n",
    "- С одного хоста может быть только один документ на выдаче. Если для запроса есть несколько документов с одним и тем же id хоста — берется максимально релевантный документ (а если несколько документов максимально релевантны, берется любой).\n",
    "- Документы по запросу сортируются по убыванию релевантности.\n",
    "- Если у нескольких документов с разных хостов релевантность одинакова, их порядок может быть произвольным.\n",
    "\n",
    "Формула для расчёта:"
   ]
  },
  {
   "attachments": {
    "Screenshot%202020-09-21%20at%207.06.12%20PM.png": {
     "image/png": "[encoded data removed]"
    }
   },
   "cell_type": "markdown",
   "metadata": {},
   "source": [
    "![Screenshot%202020-09-21%20at%207.06.12%20PM.png](attachment:Screenshot%202020-09-21%20at%207.06.12%20PM.png)"
   ]
  },
  {
   "cell_type": "markdown",
   "metadata": {},
   "source": [
    "__Формат вывода__\n",
    "\n",
    "Текст запроса с максимальным значением метрики.\n",
    "\n",
    "Например, для open_task.zip правильный ответ:\n",
    "гугл переводчик"
   ]
  },
  {
   "cell_type": "code",
   "execution_count": 116,
   "metadata": {},
   "outputs": [],
   "source": [
    "path1 = 'data/hidden_task/'"
   ]
  },
  {
   "cell_type": "code",
   "execution_count": 117,
   "metadata": {},
   "outputs": [],
   "source": [
    "#   𝑖𝑑  запроса и текст запроса, разделённые табуляцией;\n",
    "qid_query = pd.read_csv(path1 + 'qid_query.tsv', sep = '\\t', header = None, names = ['id', 'text'])\n",
    "qid_query = qid_query.set_index('id')\n",
    "# qid_query.head()"
   ]
  },
  {
   "cell_type": "code",
   "execution_count": 118,
   "metadata": {},
   "outputs": [],
   "source": [
    "#   𝑖𝑑  запроса, URL документа, релевантность документа запросу;\n",
    "qid_url_rating = pd.read_csv(path1 + 'qid_url_rating.tsv', sep = '\\t', header = None,\n",
    "                             names = ['id', 'url', 'rating'])\n",
    "qid_url_rating = qid_url_rating.set_index('id')\n",
    "# qid_url_rating.head()"
   ]
  },
  {
   "cell_type": "code",
   "execution_count": 119,
   "metadata": {},
   "outputs": [],
   "source": [
    "#   𝑖𝑑  хоста и URL документа.\n",
    "hostid_url = pd.read_csv(path1 + 'hostid_url.tsv', sep = '\\t', header = None,\n",
    "                        names = ['id_host', 'url'])\n",
    "# hostid_url = hostid_url.set_index('id_host')\n",
    "# hostid_url.head()"
   ]
  },
  {
   "cell_type": "code",
   "execution_count": 120,
   "metadata": {},
   "outputs": [],
   "source": [
    "new = pd.merge(qid_query, qid_url_rating, on='id')\n",
    "new = new.reset_index()\n",
    "# new"
   ]
  },
  {
   "cell_type": "code",
   "execution_count": 126,
   "metadata": {},
   "outputs": [
    {
     "data": {
      "text/html": [
       "<div>\n",
       "<style scoped>\n",
       "    .dataframe tbody tr th:only-of-type {\n",
       "        vertical-align: middle;\n",
       "    }\n",
       "\n",
       "    .dataframe tbody tr th {\n",
       "        vertical-align: top;\n",
       "    }\n",
       "\n",
       "    .dataframe thead th {\n",
       "        text-align: right;\n",
       "    }\n",
       "</style>\n",
       "<table border=\"1\" class=\"dataframe\">\n",
       "  <thead>\n",
       "    <tr style=\"text-align: right;\">\n",
       "      <th></th>\n",
       "      <th>id</th>\n",
       "      <th>text</th>\n",
       "      <th>url</th>\n",
       "      <th>rating</th>\n",
       "      <th>id_host</th>\n",
       "    </tr>\n",
       "  </thead>\n",
       "  <tbody>\n",
       "    <tr>\n",
       "      <th>0</th>\n",
       "      <td>402111</td>\n",
       "      <td>работа фотографом в австралии</td>\n",
       "      <td>http://24-job.com/board/job_australia/232-1-2-...</td>\n",
       "      <td>0.07</td>\n",
       "      <td>7</td>\n",
       "    </tr>\n",
       "    <tr>\n",
       "      <th>1</th>\n",
       "      <td>402111</td>\n",
       "      <td>работа фотографом в австралии</td>\n",
       "      <td>http://24-job.com/board/job_australia/232-1-2-...</td>\n",
       "      <td>0.07</td>\n",
       "      <td>7</td>\n",
       "    </tr>\n",
       "    <tr>\n",
       "      <th>2</th>\n",
       "      <td>402111</td>\n",
       "      <td>работа фотографом в австралии</td>\n",
       "      <td>http://802351.info/5964-v-avstralii.html</td>\n",
       "      <td>0.00</td>\n",
       "      <td>13</td>\n",
       "    </tr>\n",
       "    <tr>\n",
       "      <th>3</th>\n",
       "      <td>402111</td>\n",
       "      <td>работа фотографом в австралии</td>\n",
       "      <td>http://auscommunity.com/blog/jobs/</td>\n",
       "      <td>0.00</td>\n",
       "      <td>53</td>\n",
       "    </tr>\n",
       "    <tr>\n",
       "      <th>4</th>\n",
       "      <td>402111</td>\n",
       "      <td>работа фотографом в австралии</td>\n",
       "      <td>http://auscommunity.com/tag/%D1%84%D0%BE%D1%82...</td>\n",
       "      <td>0.00</td>\n",
       "      <td>53</td>\n",
       "    </tr>\n",
       "    <tr>\n",
       "      <th>...</th>\n",
       "      <td>...</td>\n",
       "      <td>...</td>\n",
       "      <td>...</td>\n",
       "      <td>...</td>\n",
       "      <td>...</td>\n",
       "    </tr>\n",
       "    <tr>\n",
       "      <th>798</th>\n",
       "      <td>99543</td>\n",
       "      <td>КВН \"Утомленные солнцем\"</td>\n",
       "      <td>http://www.youtube.com/watch?v=QDcomRWogFE</td>\n",
       "      <td>0.14</td>\n",
       "      <td>1155</td>\n",
       "    </tr>\n",
       "    <tr>\n",
       "      <th>799</th>\n",
       "      <td>99543</td>\n",
       "      <td>КВН \"Утомленные солнцем\"</td>\n",
       "      <td>http://www.youtube.com/watch?v=Y3n47xZb0b4</td>\n",
       "      <td>0.14</td>\n",
       "      <td>1155</td>\n",
       "    </tr>\n",
       "    <tr>\n",
       "      <th>800</th>\n",
       "      <td>99543</td>\n",
       "      <td>КВН \"Утомленные солнцем\"</td>\n",
       "      <td>http://www.yuga.ru/articles/culture?id=3378</td>\n",
       "      <td>0.00</td>\n",
       "      <td>1156</td>\n",
       "    </tr>\n",
       "    <tr>\n",
       "      <th>801</th>\n",
       "      <td>99543</td>\n",
       "      <td>КВН \"Утомленные солнцем\"</td>\n",
       "      <td>http://www.zexe.de/modules.php?name=Pages&amp;pa=s...</td>\n",
       "      <td>0.14</td>\n",
       "      <td>1160</td>\n",
       "    </tr>\n",
       "    <tr>\n",
       "      <th>802</th>\n",
       "      <td>99543</td>\n",
       "      <td>КВН \"Утомленные солнцем\"</td>\n",
       "      <td>http://zapil77.by.ru/kubok-kvn-g-dubna.html</td>\n",
       "      <td>0.00</td>\n",
       "      <td>1182</td>\n",
       "    </tr>\n",
       "  </tbody>\n",
       "</table>\n",
       "<p>803 rows × 5 columns</p>\n",
       "</div>"
      ],
      "text/plain": [
       "         id                           text  \\\n",
       "0    402111  работа фотографом в австралии   \n",
       "1    402111  работа фотографом в австралии   \n",
       "2    402111  работа фотографом в австралии   \n",
       "3    402111  работа фотографом в австралии   \n",
       "4    402111  работа фотографом в австралии   \n",
       "..      ...                            ...   \n",
       "798   99543       КВН \"Утомленные солнцем\"   \n",
       "799   99543       КВН \"Утомленные солнцем\"   \n",
       "800   99543       КВН \"Утомленные солнцем\"   \n",
       "801   99543       КВН \"Утомленные солнцем\"   \n",
       "802   99543       КВН \"Утомленные солнцем\"   \n",
       "\n",
       "                                                   url  rating  id_host  \n",
       "0    http://24-job.com/board/job_australia/232-1-2-...    0.07        7  \n",
       "1    http://24-job.com/board/job_australia/232-1-2-...    0.07        7  \n",
       "2             http://802351.info/5964-v-avstralii.html    0.00       13  \n",
       "3                   http://auscommunity.com/blog/jobs/    0.00       53  \n",
       "4    http://auscommunity.com/tag/%D1%84%D0%BE%D1%82...    0.00       53  \n",
       "..                                                 ...     ...      ...  \n",
       "798         http://www.youtube.com/watch?v=QDcomRWogFE    0.14     1155  \n",
       "799         http://www.youtube.com/watch?v=Y3n47xZb0b4    0.14     1155  \n",
       "800        http://www.yuga.ru/articles/culture?id=3378    0.00     1156  \n",
       "801  http://www.zexe.de/modules.php?name=Pages&pa=s...    0.14     1160  \n",
       "802        http://zapil77.by.ru/kubok-kvn-g-dubna.html    0.00     1182  \n",
       "\n",
       "[803 rows x 5 columns]"
      ]
     },
     "execution_count": 126,
     "metadata": {},
     "output_type": "execute_result"
    }
   ],
   "source": [
    "new1 = pd.merge(new, hostid_url, on='url')\n",
    "new1"
   ]
  },
  {
   "cell_type": "code",
   "execution_count": 125,
   "metadata": {},
   "outputs": [
    {
     "data": {
      "text/html": [
       "<div>\n",
       "<style scoped>\n",
       "    .dataframe tbody tr th:only-of-type {\n",
       "        vertical-align: middle;\n",
       "    }\n",
       "\n",
       "    .dataframe tbody tr th {\n",
       "        vertical-align: top;\n",
       "    }\n",
       "\n",
       "    .dataframe thead th {\n",
       "        text-align: right;\n",
       "    }\n",
       "</style>\n",
       "<table border=\"1\" class=\"dataframe\">\n",
       "  <thead>\n",
       "    <tr style=\"text-align: right;\">\n",
       "      <th></th>\n",
       "      <th></th>\n",
       "      <th>rating</th>\n",
       "    </tr>\n",
       "    <tr>\n",
       "      <th>id_host</th>\n",
       "      <th>id</th>\n",
       "      <th></th>\n",
       "    </tr>\n",
       "  </thead>\n",
       "  <tbody>\n",
       "    <tr>\n",
       "      <th>1</th>\n",
       "      <th>70357</th>\n",
       "      <td>0.000000</td>\n",
       "    </tr>\n",
       "    <tr>\n",
       "      <th>5</th>\n",
       "      <th>49587</th>\n",
       "      <td>0.000000</td>\n",
       "    </tr>\n",
       "    <tr>\n",
       "      <th>7</th>\n",
       "      <th>402111</th>\n",
       "      <td>0.070000</td>\n",
       "    </tr>\n",
       "    <tr>\n",
       "      <th>8</th>\n",
       "      <th>690263</th>\n",
       "      <td>0.140000</td>\n",
       "    </tr>\n",
       "    <tr>\n",
       "      <th>10</th>\n",
       "      <th>5308</th>\n",
       "      <td>0.000000</td>\n",
       "    </tr>\n",
       "    <tr>\n",
       "      <th>...</th>\n",
       "      <th>...</th>\n",
       "      <td>...</td>\n",
       "    </tr>\n",
       "    <tr>\n",
       "      <th>1180</th>\n",
       "      <th>690263</th>\n",
       "      <td>0.203333</td>\n",
       "    </tr>\n",
       "    <tr>\n",
       "      <th>1182</th>\n",
       "      <th>99543</th>\n",
       "      <td>0.000000</td>\n",
       "    </tr>\n",
       "    <tr>\n",
       "      <th>1184</th>\n",
       "      <th>63179</th>\n",
       "      <td>0.000000</td>\n",
       "    </tr>\n",
       "    <tr>\n",
       "      <th>1188</th>\n",
       "      <th>48815</th>\n",
       "      <td>0.140000</td>\n",
       "    </tr>\n",
       "    <tr>\n",
       "      <th>1189</th>\n",
       "      <th>58989</th>\n",
       "      <td>0.000000</td>\n",
       "    </tr>\n",
       "  </tbody>\n",
       "</table>\n",
       "<p>607 rows × 1 columns</p>\n",
       "</div>"
      ],
      "text/plain": [
       "                  rating\n",
       "id_host id              \n",
       "1       70357   0.000000\n",
       "5       49587   0.000000\n",
       "7       402111  0.070000\n",
       "8       690263  0.140000\n",
       "10      5308    0.000000\n",
       "...                  ...\n",
       "1180    690263  0.203333\n",
       "1182    99543   0.000000\n",
       "1184    63179   0.000000\n",
       "1188    48815   0.140000\n",
       "1189    58989   0.000000\n",
       "\n",
       "[607 rows x 1 columns]"
      ]
     },
     "execution_count": 125,
     "metadata": {},
     "output_type": "execute_result"
    }
   ],
   "source": [
    "new1.pivot_table(index=['id_host','id']\n",
    ")"
   ]
  },
  {
   "cell_type": "code",
   "execution_count": null,
   "metadata": {},
   "outputs": [],
   "source": []
  }
 ],
 "metadata": {
  "kernelspec": {
   "display_name": "Python 3",
   "language": "python",
   "name": "python3"
  },
  "language_info": {
   "codemirror_mode": {
    "name": "ipython",
    "version": 3
   },
   "file_extension": ".py",
   "mimetype": "text/x-python",
   "name": "python",
   "nbconvert_exporter": "python",
   "pygments_lexer": "ipython3",
   "version": "3.7.6"
  }
 },
 "nbformat": 4,
 "nbformat_minor": 4
}
