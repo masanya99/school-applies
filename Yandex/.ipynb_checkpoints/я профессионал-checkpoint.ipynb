{
 "cells": [
  {
   "cell_type": "code",
   "execution_count": 9,
   "metadata": {},
   "outputs": [
    {
     "name": "stdout",
     "output_type": "stream",
     "text": [
      "3 2\n",
      "9 4\n"
     ]
    }
   ],
   "source": [
    "a, b = map(int, input().split())\n",
    "c, d = map(int, input().split())"
   ]
  },
  {
   "cell_type": "code",
   "execution_count": 10,
   "metadata": {},
   "outputs": [
    {
     "data": {
      "text/plain": [
       "(2.25, 5.0625)"
      ]
     },
     "execution_count": 10,
     "metadata": {},
     "output_type": "execute_result"
    }
   ],
   "source": [
    "l = (a/b)**2\n",
    "r = (c/d)**2\n",
    "\n",
    "l,r"
   ]
  },
  {
   "cell_type": "code",
   "execution_count": 13,
   "metadata": {},
   "outputs": [
    {
     "name": "stdout",
     "output_type": "stream",
     "text": [
      "3\n"
     ]
    }
   ],
   "source": [
    "from math import ceil\n",
    "\n",
    "x = []\n",
    "\n",
    "for i in range(ceil(l),int(r)+1):\n",
    "    x.append(i)\n",
    "    \n",
    "print(len(x))"
   ]
  },
  {
   "cell_type": "code",
   "execution_count": 14,
   "metadata": {},
   "outputs": [
    {
     "name": "stdout",
     "output_type": "stream",
     "text": [
      "7 5\n",
      "2 1\n",
      "3\n"
     ]
    }
   ],
   "source": [
    "a, b = map(int, input().split())\n",
    "c, d = map(int, input().split())\n",
    "\n",
    "l = (a/b)**2\n",
    "r = (c/d)**2\n",
    "\n",
    "from math import ceil\n",
    "\n",
    "x = []\n",
    "\n",
    "for i in range(ceil(l),int(r)+1):\n",
    "    x.append(i)\n",
    "    \n",
    "print(len(x))"
   ]
  },
  {
   "cell_type": "code",
   "execution_count": null,
   "metadata": {},
   "outputs": [],
   "source": []
  },
  {
   "cell_type": "code",
   "execution_count": null,
   "metadata": {},
   "outputs": [],
   "source": []
  },
  {
   "cell_type": "code",
   "execution_count": null,
   "metadata": {},
   "outputs": [],
   "source": []
  },
  {
   "cell_type": "code",
   "execution_count": 15,
   "metadata": {},
   "outputs": [
    {
     "name": "stdout",
     "output_type": "stream",
     "text": [
      "10 20\n"
     ]
    }
   ],
   "source": [
    "L, R = map(int, input().split())"
   ]
  },
  {
   "cell_type": "code",
   "execution_count": 22,
   "metadata": {},
   "outputs": [],
   "source": [
    "def printDivisors(n) : \n",
    "    i = 1\n",
    "    div = []\n",
    "    while i <= n : \n",
    "        if (n % i==0) : \n",
    "            div.append(i)\n",
    "        i += 1\n",
    "    return len(div)"
   ]
  },
  {
   "cell_type": "code",
   "execution_count": 28,
   "metadata": {},
   "outputs": [
    {
     "name": "stdout",
     "output_type": "stream",
     "text": [
      "[11, 13, 17, 19, 10, 14, 15, 16, 12, 18, 20]\n"
     ]
    }
   ],
   "source": [
    "res = []\n",
    "for i in sorted([(i,printDivisors(i)) for i in range(L,R+1)], key=lambda el: el[1]):\n",
    "    res.append(i[0])\n",
    "    \n",
    "print(res)"
   ]
  },
  {
   "cell_type": "code",
   "execution_count": 30,
   "metadata": {},
   "outputs": [
    {
     "name": "stdout",
     "output_type": "stream",
     "text": [
      "10 20\n",
      "11 13 17 19 10 14 15 16 12 18 20 "
     ]
    }
   ],
   "source": [
    "L, R = map(int, input().split())\n",
    "\n",
    "def printDivisors(n) : \n",
    "    i = 1\n",
    "    div = []\n",
    "    while i <= n : \n",
    "        if (n % i==0) : \n",
    "            div.append(i)\n",
    "        i += 1\n",
    "    return len(div)\n",
    "\n",
    "for i in sorted([(i,printDivisors(i)) for i in range(L,R+1)], key=lambda el: el[1]):\n",
    "    print(i[0], end=' ')"
   ]
  },
  {
   "cell_type": "code",
   "execution_count": null,
   "metadata": {},
   "outputs": [],
   "source": []
  }
 ],
 "metadata": {
  "kernelspec": {
   "display_name": "Python 3",
   "language": "python",
   "name": "python3"
  },
  "language_info": {
   "codemirror_mode": {
    "name": "ipython",
    "version": 3
   },
   "file_extension": ".py",
   "mimetype": "text/x-python",
   "name": "python",
   "nbconvert_exporter": "python",
   "pygments_lexer": "ipython3",
   "version": "3.7.6"
  }
 },
 "nbformat": 4,
 "nbformat_minor": 4
}
