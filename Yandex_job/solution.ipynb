{
 "cells": [
  {
   "cell_type": "code",
   "execution_count": 1,
   "metadata": {},
   "outputs": [],
   "source": [
    "# библиотеки\n",
    "\n",
    "import numpy as np"
   ]
  },
  {
   "cell_type": "code",
   "execution_count": 2,
   "metadata": {},
   "outputs": [],
   "source": [
    "# входные данные\n",
    "\n",
    "arr1 = ['a','b','c']\n",
    "arr2 = ['a','b','c','a','b','c','d']\n",
    "arr3 = ['a','b','c','a','b','c']"
   ]
  },
  {
   "cell_type": "code",
   "execution_count": 3,
   "metadata": {},
   "outputs": [],
   "source": [
    "# основная функция\n",
    "\n",
    "def candy(array):\n",
    "    if len(array)==0:\n",
    "        return 0\n",
    "#     преобразуем список в массив numpy для удобства\n",
    "    arr = np.array(array)\n",
    "#     воспользуемся функцией, которая возвращает 2 массива: уникальные элементы списка и кол-во их повторений\n",
    "    uniq = np.unique(arr, return_counts=True)\n",
    "#     на выход отдадим наибольший общий делитель повторений, тк нам надо сформировать одинаковые наборы конфет и раздать все\n",
    "    return np.gcd.reduce(uniq[1])"
   ]
  },
  {
   "cell_type": "code",
   "execution_count": 4,
   "metadata": {},
   "outputs": [
    {
     "name": "stdout",
     "output_type": "stream",
     "text": [
      "1\n",
      "1\n",
      "2\n"
     ]
    }
   ],
   "source": [
    "# результат программы\n",
    "\n",
    "print(candy(arr1)) # 1\n",
    "print(candy(arr2)) # 1\n",
    "print(candy(arr3)) # 2"
   ]
  },
  {
   "cell_type": "code",
   "execution_count": null,
   "metadata": {},
   "outputs": [],
   "source": []
  }
 ],
 "metadata": {
  "kernelspec": {
   "display_name": "Python 3",
   "language": "python",
   "name": "python3"
  },
  "language_info": {
   "codemirror_mode": {
    "name": "ipython",
    "version": 3
   },
   "file_extension": ".py",
   "mimetype": "text/x-python",
   "name": "python",
   "nbconvert_exporter": "python",
   "pygments_lexer": "ipython3",
   "version": "3.8.5"
  }
 },
 "nbformat": 4,
 "nbformat_minor": 4
}
