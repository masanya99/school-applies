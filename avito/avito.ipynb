{
 "cells": [
  {
   "cell_type": "code",
   "execution_count": 4,
   "metadata": {},
   "outputs": [
    {
     "data": {
      "text/plain": [
       "1.0526315789473684"
      ]
     },
     "execution_count": 4,
     "metadata": {},
     "output_type": "execute_result"
    }
   ],
   "source": [
    "1/(0.9+0.05)"
   ]
  },
  {
   "cell_type": "code",
   "execution_count": 3,
   "metadata": {},
   "outputs": [
    {
     "data": {
      "text/plain": [
       "8.100000000000001"
      ]
     },
     "execution_count": 3,
     "metadata": {},
     "output_type": "execute_result"
    }
   ],
   "source": [
    "0.9**2 *10\n"
   ]
  },
  {
   "cell_type": "code",
   "execution_count": 9,
   "metadata": {},
   "outputs": [
    {
     "name": "stdout",
     "output_type": "stream",
     "text": [
      "3\n",
      "1 2 3\n",
      "1 2 3\n",
      "1 2 2\n"
     ]
    }
   ],
   "source": [
    "N=int(input())\n",
    "a=[]\n",
    "for i in range(N):\n",
    "    a.append(list(map(int, input().split())))"
   ]
  },
  {
   "cell_type": "code",
   "execution_count": 11,
   "metadata": {},
   "outputs": [
    {
     "data": {
      "text/plain": [
       "[[1, 2, 3], [1, 2, 3], [1, 2, 2]]"
      ]
     },
     "execution_count": 11,
     "metadata": {},
     "output_type": "execute_result"
    }
   ],
   "source": [
    "a"
   ]
  },
  {
   "cell_type": "code",
   "execution_count": 13,
   "metadata": {},
   "outputs": [
    {
     "name": "stdout",
     "output_type": "stream",
     "text": [
      "3\n",
      "1 2 3\n",
      "4 5 6\n",
      "7 8 9\n"
     ]
    },
    {
     "data": {
      "text/plain": [
       "[1, 5, 9]"
      ]
     },
     "execution_count": 13,
     "metadata": {},
     "output_type": "execute_result"
    }
   ],
   "source": [
    "N=int(input())\n",
    "a=[]\n",
    "for i in range(N):\n",
    "    a.append(list(map(int, input().split())))\n",
    "b=[]\n",
    "for i in range(N):\n",
    "    for j in range(N):\n",
    "        if i==j:\n",
    "            b.append(a[i][j])\n",
    "print(b)"
   ]
  },
  {
   "cell_type": "code",
   "execution_count": 14,
   "metadata": {},
   "outputs": [
    {
     "name": "stdout",
     "output_type": "stream",
     "text": [
      "[1, 5, 9]\n"
     ]
    }
   ],
   "source": [
    "print(b)"
   ]
  },
  {
   "cell_type": "markdown",
   "metadata": {},
   "source": [
    "Дана матрица [N×M]. Необходимо вывести через пробел номер строки и номер столбца минимального значения матрицы, если одинаковых значений несколько, то вывести с наименьшим номером строки. Если и в этом случае остались одинаковые значения, то вывести с наименьшим номером столбца.\n",
    "\n",
    "Значения матрицы - целые числа на отрезке [-100; 100], N,M - целые числа на отрезке [1; 100].\n",
    "\n",
    "На вход будет подано: на первой строке задается количество строк матрицы N и через пробел количество столбцов матрицы M. На последующих N строках задаются строки матрицы, каждая из которых содержит M целых чисел, разделенных пробелом"
   ]
  },
  {
   "cell_type": "code",
   "execution_count": 65,
   "metadata": {},
   "outputs": [
    {
     "name": "stdout",
     "output_type": "stream",
     "text": [
      "3 2\n",
      "1 2\n",
      "3 4\n",
      "5 6\n",
      "[(1, 1)]\n"
     ]
    }
   ],
   "source": [
    "import numpy as np\n",
    "N,M=map(int, input().split())\n",
    "a=[]\n",
    "for i in range(N):\n",
    "    a.append(list(map(int, input().split())))\n",
    "a=np.array(a)\n",
    "result = np.where(a == np.amin(a))\n",
    "listOfCordinates = list(zip(result[0]+1, result[1]+1))\n",
    "if len(listOfCordinates)>1:\n",
    "    print(min(listOfCordinates))\n",
    "else:\n",
    "    print(listOfCordinates)"
   ]
  },
  {
   "cell_type": "markdown",
   "metadata": {},
   "source": [
    "Даны две матрицы порядка [N×M] и [M×L]. Необходимо вывести матрицу результат их перемножения. Значения матрицы - целые числа на отрезке [-100; 100]. N, M, L - целые числа на отрезке [1; 100].\n",
    "\n",
    "На вход будет подано: на первой строке будет задано количество строк матрицы N и через пробел количество столбцов матрицы M. На последующих N строках задаются строки матрицы, каждая из которых содержит M целых чисел, разделенных пробелом. На N+2 строке задается количество строк матрицы M и через пробел количество столбцов матрицы L. На последующих M строках задаются строки матрицы, каждая из которых содержит L целых чисел, разделенных пробелом."
   ]
  },
  {
   "cell_type": "code",
   "execution_count": 66,
   "metadata": {},
   "outputs": [
    {
     "ename": "SyntaxError",
     "evalue": "invalid syntax (<ipython-input-66-da9308558a57>, line 1)",
     "output_type": "error",
     "traceback": [
      "\u001b[0;36m  File \u001b[0;32m\"<ipython-input-66-da9308558a57>\"\u001b[0;36m, line \u001b[0;32m1\u001b[0m\n\u001b[0;31m    3 2\u001b[0m\n\u001b[0m      ^\u001b[0m\n\u001b[0;31mSyntaxError\u001b[0m\u001b[0;31m:\u001b[0m invalid syntax\n"
     ]
    }
   ],
   "source": [
    "3 2\n",
    "1 2\n",
    "3 4\n",
    "5 6\n",
    "2 3\n",
    "1 3 5\n",
    "2 4 6"
   ]
  },
  {
   "cell_type": "code",
   "execution_count": 68,
   "metadata": {},
   "outputs": [
    {
     "name": "stdout",
     "output_type": "stream",
     "text": [
      "3 2\n",
      "1 2\n",
      "3 4\n",
      "5 6\n",
      "2 3\n",
      "1 3 5\n",
      "2 4 6\n"
     ]
    }
   ],
   "source": [
    "import numpy as np\n",
    "N,M=map(int, input().split())\n",
    "a=[]\n",
    "for i in range(N):\n",
    "    a.append(list(map(int, input().split())))\n",
    "a=np.array(a)\n",
    "M,L=map(int, input().split())\n",
    "b=[]\n",
    "for i in range(M):\n",
    "    b.append(list(map(int, input().split())))\n",
    "b=np.array(b)\n",
    "print(res)"
   ]
  },
  {
   "cell_type": "code",
   "execution_count": 69,
   "metadata": {},
   "outputs": [
    {
     "data": {
      "text/plain": [
       "(array([[1, 2],\n",
       "        [3, 4],\n",
       "        [5, 6]]),\n",
       " array([[1, 3, 5],\n",
       "        [2, 4, 6]]))"
      ]
     },
     "execution_count": 69,
     "metadata": {},
     "output_type": "execute_result"
    }
   ],
   "source": [
    "a,b"
   ]
  },
  {
   "cell_type": "code",
   "execution_count": 70,
   "metadata": {},
   "outputs": [],
   "source": [
    "res = np.dot(a,b) "
   ]
  },
  {
   "cell_type": "code",
   "execution_count": 72,
   "metadata": {},
   "outputs": [
    {
     "name": "stdout",
     "output_type": "stream",
     "text": [
      "[[ 5 11 17]\n",
      " [11 25 39]\n",
      " [17 39 61]]\n"
     ]
    }
   ],
   "source": [
    "print(res)"
   ]
  },
  {
   "cell_type": "code",
   "execution_count": null,
   "metadata": {},
   "outputs": [],
   "source": []
  },
  {
   "cell_type": "code",
   "execution_count": 73,
   "metadata": {},
   "outputs": [
    {
     "name": "stdout",
     "output_type": "stream",
     "text": [
      "_ _ _ _ _ _ _ _ x _\n",
      "_ _ _ x x * * _ x *\n",
      "_ _ _ * _ _ _ _ x _\n",
      "x _ _ _ _ _ _ _ * _\n",
      "x _ _ _ _ _ _ _ _ x\n",
      "_ _ _ x _ * _ _ _ x\n",
      "_ _ * _ _ _ x _ _ x\n",
      "_ _ _ x x _ x _ _ x\n",
      "_ x _ _ _ _ x _ _ _\n",
      "_ _ _ x _ _ _ _ x _\n"
     ]
    }
   ],
   "source": [
    "field_ = [input().split() for i in range(10)]"
   ]
  },
  {
   "cell_type": "code",
   "execution_count": 78,
   "metadata": {},
   "outputs": [
    {
     "name": "stdout",
     "output_type": "stream",
     "text": [
      "20\n"
     ]
    }
   ],
   "source": [
    "field_=np.array(field_)\n",
    "if np.count_nonzero(field_ =='x')==20:\n",
    "    print(1)\n",
    "else:\n",
    "    print(0)"
   ]
  },
  {
   "cell_type": "code",
   "execution_count": null,
   "metadata": {},
   "outputs": [],
   "source": [
    "_ _ _ _ _ _ _ _ x _\n",
    "_ _ _ x x * * _ x *\n",
    "_ _ _ * _ _ _ _ x _\n",
    "x _ _ _ _ _ _ _ * _\n",
    "x _ _ _ _ _ _ _ _ x\n",
    "_ _ _ x _ * _ _ _ x\n",
    "_ _ * _ _ _ x _ _ x\n",
    "_ _ _ x x _ x _ _ x\n",
    "_ x _ _ _ _ x _ _ _\n",
    "_ _ _ x _ _ _ _ x _"
   ]
  },
  {
   "cell_type": "markdown",
   "metadata": {},
   "source": [
    "-------------------"
   ]
  },
  {
   "cell_type": "code",
   "execution_count": null,
   "metadata": {},
   "outputs": [],
   "source": []
  },
  {
   "cell_type": "code",
   "execution_count": null,
   "metadata": {},
   "outputs": [],
   "source": []
  },
  {
   "cell_type": "code",
   "execution_count": null,
   "metadata": {},
   "outputs": [],
   "source": []
  }
 ],
 "metadata": {
  "kernelspec": {
   "display_name": "Python 3",
   "language": "python",
   "name": "python3"
  },
  "language_info": {
   "codemirror_mode": {
    "name": "ipython",
    "version": 3
   },
   "file_extension": ".py",
   "mimetype": "text/x-python",
   "name": "python",
   "nbconvert_exporter": "python",
   "pygments_lexer": "ipython3",
   "version": "3.7.6"
  }
 },
 "nbformat": 4,
 "nbformat_minor": 4
}
