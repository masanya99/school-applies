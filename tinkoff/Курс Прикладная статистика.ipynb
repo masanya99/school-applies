{
 "cells": [
  {
   "cell_type": "markdown",
   "metadata": {},
   "source": [
    "Задача на знание Python.\n",
    "\n",
    "Построить функцию, осуществляющую умножение каждого элемента матрицы на диагональные элементы по строке и по столбцу"
   ]
  },
  {
   "cell_type": "code",
   "execution_count": 36,
   "metadata": {},
   "outputs": [
    {
     "data": {
      "text/plain": [
       "[[38, 190, 342], [83, 415, 747], [128, 640, 1152]]"
      ]
     },
     "execution_count": 36,
     "metadata": {},
     "output_type": "execute_result"
    }
   ],
   "source": [
    "mat = [[1,2,3],\n",
    "      [4,5,6],\n",
    "      [7,8,9]]\n",
    "\n",
    "diag = [1, 5, 9]\n",
    "res_col = [38, 83, 128]\n",
    "\n",
    "res = mat\n",
    "\n",
    "for n,x in zip(range(len(mat)), res_col):\n",
    "    for m,y in zip(range(len(i)),diag):\n",
    "        res[n][m] = x*y\n",
    "        \n",
    "res"
   ]
  },
  {
   "cell_type": "code",
   "execution_count": 44,
   "metadata": {},
   "outputs": [
    {
     "data": {
      "text/plain": [
       "[[38, 190, 342], [83, 415, 747], [128, 640, 1152]]"
      ]
     },
     "execution_count": 44,
     "metadata": {},
     "output_type": "execute_result"
    }
   ],
   "source": [
    "mat = [[1,2,3],\n",
    "      [4,5,6],\n",
    "      [7,8,9]]\n",
    "\n",
    "def mult(matrix):\n",
    "    res = matrix\n",
    "    \n",
    "#     find diagonal\n",
    "    diag =[]\n",
    "    for n, i in enumerate(matrix):\n",
    "        for m, j in enumerate(i):\n",
    "            if n == m:\n",
    "                diag.append(j)\n",
    "                \n",
    "#     mult -> col\n",
    "    mat_col = []\n",
    "    res_col = [0,0,0]\n",
    "    for i,n in zip(matrix,range(3)):\n",
    "        for j, d in zip(i, diag):\n",
    "            mat_col.append(j*d)\n",
    "            if len(mat_col) % 3 == 0:\n",
    "                res_col[n]  = sum(mat_col)-sum(res_col)\n",
    "                \n",
    "#     mult -> new matrix\n",
    "    res = matrix\n",
    "\n",
    "    for n,x in zip(range(len(matrix)), res_col):\n",
    "        for m,y in zip(range(len(i)),diag):\n",
    "            res[n][m] = x*y\n",
    "            \n",
    "    return res\n",
    "\n",
    "mult(mat)\n",
    "# result should be [[38, 190, 342], [83, 415, 747], [128, 640, 1152]]"
   ]
  },
  {
   "cell_type": "code",
   "execution_count": 41,
   "metadata": {},
   "outputs": [],
   "source": []
  },
  {
   "cell_type": "markdown",
   "metadata": {},
   "source": [
    "Задача на знание Python: построение графиков.\n",
    "\n",
    "Построить функцию, которая отображает распределение Рэлея. У функции должно быть 2 параметра:\n",
    "\n",
    "массив из 3 чисел: концов интервала области определения и количества точек интерполяции\n",
    "параметр /sigma"
   ]
  },
  {
   "cell_type": "code",
   "execution_count": 49,
   "metadata": {},
   "outputs": [
    {
     "data": {
      "image/png": "[encoded data removed]",
      "text/plain": [
       "<Figure size 432x288 with 1 Axes>"
      ]
     },
     "metadata": {
      "needs_background": "light"
     },
     "output_type": "display_data"
    }
   ],
   "source": [
    "from scipy.stats import rayleigh\n",
    "import matplotlib.pyplot as plt\n",
    "import numpy as np\n",
    "fig, ax = plt.subplots(1, 1)\n",
    "mean, var, skew, kurt = rayleigh.stats(moments='mvsk')\n",
    "x = np.linspace(rayleigh.ppf(0.01),\n",
    "                rayleigh.ppf(0.99), 100)\n",
    "ax.plot(x, rayleigh.pdf(x),\n",
    "       'r-', lw=5, alpha=0.6, label='rayleigh pdf')\n",
    "plt.legend()\n",
    "plt.show()"
   ]
  },
  {
   "cell_type": "code",
   "execution_count": null,
   "metadata": {},
   "outputs": [],
   "source": []
  }
 ],
 "metadata": {
  "kernelspec": {
   "display_name": "Python 3",
   "language": "python",
   "name": "python3"
  },
  "language_info": {
   "codemirror_mode": {
    "name": "ipython",
    "version": 3
   },
   "file_extension": ".py",
   "mimetype": "text/x-python",
   "name": "python",
   "nbconvert_exporter": "python",
   "pygments_lexer": "ipython3",
   "version": "3.8.5"
  }
 },
 "nbformat": 4,
 "nbformat_minor": 4
}
